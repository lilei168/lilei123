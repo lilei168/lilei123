{
 "cells": [
  {
   "cell_type": "code",
   "execution_count": null,
   "metadata": {},
   "outputs": [
    {
     "name": "stderr",
     "output_type": "stream",
     "text": [
      "Processing...\n"
     ]
    },
    {
     "name": "stdout",
     "output_type": "stream",
     "text": [
      "数据集信息:\n",
      "节点数: 2708\n",
      "边数: 10556\n",
      "类别数: 7\n",
      "特征维度: 1433\n"
     ]
    },
    {
     "name": "stderr",
     "output_type": "stream",
     "text": [
      "Done!\n"
     ]
    }
   ],
   "source": [
    "from torch_geometric.datasets import Planetoid\n",
    "\n",
    "# 加载Cora数据集\n",
    "dataset = Planetoid(root='data/Cora', name='Cora')\n",
    "data = dataset[0]  # 获取图数据\n",
    "\n",
    "print(\"数据集信息:\")\n",
    "print(f\"节点数: {data.num_nodes}\")\n",
    "print(f\"边数: {data.num_edges}\")\n",
    "print(f\"类别数: {dataset.num_classes}\")\n",
    "print(f\"特征维度: {dataset.num_node_features}\")\n"
   ]
  },
  {
   "cell_type": "markdown",
   "metadata": {},
   "source": [
    "定义GCN模型，与卷积网络不同，传参时还需要传入，edge_index，即邻接矩阵"
   ]
  },
  {
   "cell_type": "code",
   "execution_count": 3,
   "metadata": {},
   "outputs": [],
   "source": [
    "import torch\n",
    "import torch.nn.functional as F\n",
    "from torch_geometric.nn import GCNConv\n",
    "\n",
    "class GCN(torch.nn.Module):\n",
    "    def __init__(self, in_channels, hidden_channels, out_channels):\n",
    "        super(GCN, self).__init__()\n",
    "        self.conv1 = GCNConv(in_channels, hidden_channels)\n",
    "        self.conv2 = GCNConv(hidden_channels, out_channels)\n",
    "\n",
    "    def forward(self, x, edge_index):\n",
    "        # 第一层卷积 + ReLU\n",
    "        x = F.relu(self.conv1(x, edge_index))\n",
    "        # 第二层卷积 + LogSoftmax\n",
    "        x = self.conv2(x, edge_index)\n",
    "        return F.log_softmax(x, dim=1)\n",
    "\n",
    "# 初始化模型\n",
    "model = GCN(dataset.num_node_features, 16, dataset.num_classes)\n",
    "optimizer = torch.optim.Adam(model.parameters(), lr=0.01, weight_decay=5e-4)\n"
   ]
  },
  {
   "cell_type": "markdown",
   "metadata": {},
   "source": [
    "3、模型的训练和测试："
   ]
  },
  {
   "cell_type": "code",
   "execution_count": null,
   "metadata": {},
   "outputs": [
    {
     "name": "stdout",
     "output_type": "stream",
     "text": [
      "Epoch: 0, Loss: 1.9515, Train Acc: 0.7714, Val Acc: 0.5040, Test Acc: 0.5570\n",
      "Epoch: 10, Loss: 0.5511, Train Acc: 0.9857, Val Acc: 0.7900, Test Acc: 0.8030\n",
      "Epoch: 20, Loss: 0.0878, Train Acc: 1.0000, Val Acc: 0.7780, Test Acc: 0.8020\n",
      "Epoch: 30, Loss: 0.0226, Train Acc: 1.0000, Val Acc: 0.7740, Test Acc: 0.8070\n",
      "Epoch: 40, Loss: 0.0128, Train Acc: 1.0000, Val Acc: 0.7720, Test Acc: 0.8020\n",
      "Epoch: 50, Loss: 0.0121, Train Acc: 1.0000, Val Acc: 0.7780, Test Acc: 0.8060\n",
      "Epoch: 60, Loss: 0.0138, Train Acc: 1.0000, Val Acc: 0.7840, Test Acc: 0.8090\n",
      "Epoch: 70, Loss: 0.0157, Train Acc: 1.0000, Val Acc: 0.7800, Test Acc: 0.8080\n",
      "Epoch: 80, Loss: 0.0164, Train Acc: 1.0000, Val Acc: 0.7760, Test Acc: 0.8100\n",
      "Epoch: 90, Loss: 0.0161, Train Acc: 1.0000, Val Acc: 0.7740, Test Acc: 0.8120\n",
      "Epoch: 100, Loss: 0.0153, Train Acc: 1.0000, Val Acc: 0.7760, Test Acc: 0.8090\n",
      "Epoch: 110, Loss: 0.0144, Train Acc: 1.0000, Val Acc: 0.7820, Test Acc: 0.8090\n",
      "Epoch: 120, Loss: 0.0136, Train Acc: 1.0000, Val Acc: 0.7800, Test Acc: 0.8050\n",
      "Epoch: 130, Loss: 0.0130, Train Acc: 1.0000, Val Acc: 0.7800, Test Acc: 0.8070\n",
      "Epoch: 140, Loss: 0.0124, Train Acc: 1.0000, Val Acc: 0.7800, Test Acc: 0.8100\n",
      "Epoch: 150, Loss: 0.0119, Train Acc: 1.0000, Val Acc: 0.7800, Test Acc: 0.8090\n",
      "Epoch: 160, Loss: 0.0115, Train Acc: 1.0000, Val Acc: 0.7800, Test Acc: 0.8110\n",
      "Epoch: 170, Loss: 0.0111, Train Acc: 1.0000, Val Acc: 0.7780, Test Acc: 0.8110\n",
      "Epoch: 180, Loss: 0.0107, Train Acc: 1.0000, Val Acc: 0.7800, Test Acc: 0.8100\n",
      "Epoch: 190, Loss: 0.0104, Train Acc: 1.0000, Val Acc: 0.7800, Test Acc: 0.8120\n"
     ]
    }
   ],
   "source": [
    "import torch\n",
    "import torch.nn.functional as F\n",
    "\n",
    "# 定义训练函数\n",
    "def train():\n",
    "    # 将模型设置为训练模式，在训练模式下，某些层（如 Dropout）的行为会有所不同\n",
    "    model.train()\n",
    "    # 清空优化器中的梯度信息，避免梯度累积影响本次训练\n",
    "    optimizer.zero_grad()\n",
    "    # 前向传播：将节点特征 data.x 和边索引 data.edge_index 输入到模型中，得到模型的输出\n",
    "    out = model(data.x, data.edge_index)\n",
    "    # 计算损失：使用负对数似然损失函数（F.nll_loss）计算模型输出中训练节点的预测结果与真实标签之间的损失\n",
    "    # data.train_mask 是一个布尔掩码，用于筛选出训练集中的节点\n",
    "    loss = F.nll_loss(out[data.train_mask], data.y[data.train_mask])\n",
    "    # 反向传播：计算损失函数关于模型参数的梯度\n",
    "    loss.backward()\n",
    "    # 优化器更新模型参数：根据计算得到的梯度，使用优化器（如 Adam）更新模型的参数\n",
    "    optimizer.step()\n",
    "    # 返回当前训练步骤的损失值\n",
    "    return loss.item()\n",
    "\n",
    "# 定义测试函数\n",
    "def test():\n",
    "    # 将模型设置为评估模式，在评估模式下，某些层（如 Dropout）的行为会与训练模式不同\n",
    "    model.eval()\n",
    "    # 前向传播：将节点特征 data.x 和边索引 data.edge_index 输入到模型中，得到模型的输出\n",
    "    out = model(data.x, data.edge_index)\n",
    "    # 预测类别：在模型输出的每个节点的类别概率分布中，取概率最大的类别作为预测类别\n",
    "    pred = out.argmax(dim=1)\n",
    "    # 初始化一个空列表，用于存储训练集、验证集和测试集的准确率\n",
    "    accs = []\n",
    "    # 遍历训练集、验证集和测试集的掩码\n",
    "    for mask in [data.train_mask, data.val_mask, data.test_mask]:\n",
    "        # 计算预测正确的节点数量：比较预测类别和真实类别，统计预测正确的节点数量\n",
    "        correct = (pred[mask] == data.y[mask]).sum()\n",
    "        # 计算准确率：预测正确的节点数量除以该集合中的节点总数\n",
    "        acc = int(correct) / int(mask.sum())\n",
    "        # 将准确率添加到列表中\n",
    "        accs.append(acc)\n",
    "    # 返回训练集、验证集和测试集的准确率\n",
    "    return accs\n",
    "\n",
    "# 训练过程\n",
    "# 设定训练的总轮数为 200 轮\n",
    "for epoch in range(200):\n",
    "    # 调用训练函数进行一轮训练，并返回该轮的损失值\n",
    "    loss = train()\n",
    "    # 调用测试函数进行测试，得到训练集、验证集和测试集的准确率\n",
    "    train_acc, val_acc, test_acc = test()\n",
    "    # 每 10 轮打印一次训练信息，包括当前轮数、损失值、训练集准确率、验证集准确率和测试集准确率\n",
    "    if epoch % 10 == 0:\n",
    "        print(f\"Epoch: {epoch}, Loss: {loss:.4f}, Train Acc: {train_acc:.4f}, Val Acc: {val_acc:.4f}, Test Acc: {test_acc:.4f}\")"
   ]
  }
 ],
 "metadata": {
  "kernelspec": {
   "display_name": "gpy",
   "language": "python",
   "name": "python3"
  },
  "language_info": {
   "codemirror_mode": {
    "name": "ipython",
    "version": 3
   },
   "file_extension": ".py",
   "mimetype": "text/x-python",
   "name": "python",
   "nbconvert_exporter": "python",
   "pygments_lexer": "ipython3",
   "version": "3.12.9"
  }
 },
 "nbformat": 4,
 "nbformat_minor": 2
}
